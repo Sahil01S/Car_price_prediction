{
  "nbformat": 4,
  "nbformat_minor": 0,
  "metadata": {
    "colab": {
      "provenance": [],
      "authorship_tag": "ABX9TyMXy8qDtLpZz7joU4yDnl+i",
      "include_colab_link": true
    },
    "kernelspec": {
      "name": "python3",
      "display_name": "Python 3"
    },
    "language_info": {
      "name": "python"
    }
  },
  "cells": [
    {
      "cell_type": "markdown",
      "metadata": {
        "id": "view-in-github",
        "colab_type": "text"
      },
      "source": [
        "<a href=\"https://colab.research.google.com/github/Sahil01S/Car_price_prediction/blob/main/Car_Price_Prediction.ipynb\" target=\"_parent\"><img src=\"https://colab.research.google.com/assets/colab-badge.svg\" alt=\"Open In Colab\"/></a>"
      ]
    },
    {
      "cell_type": "code",
      "execution_count": null,
      "metadata": {
        "colab": {
          "base_uri": "https://localhost:8080/"
        },
        "id": "j-2WoLqzVXS7",
        "outputId": "ac740100-1e5e-47fa-dc05-6a0e804265a8"
      },
      "outputs": [
        {
          "output_type": "stream",
          "name": "stdout",
          "text": [
            "   car_ID  symboling                   CarName fueltype aspiration doornumber  \\\n",
            "0       1          3        alfa-romero giulia      gas        std        two   \n",
            "1       2          3       alfa-romero stelvio      gas        std        two   \n",
            "2       3          1  alfa-romero Quadrifoglio      gas        std        two   \n",
            "3       4          2               audi 100 ls      gas        std       four   \n",
            "4       5          2                audi 100ls      gas        std       four   \n",
            "\n",
            "       carbody drivewheel enginelocation  wheelbase  ...  enginesize  \\\n",
            "0  convertible        rwd          front       88.6  ...         130   \n",
            "1  convertible        rwd          front       88.6  ...         130   \n",
            "2    hatchback        rwd          front       94.5  ...         152   \n",
            "3        sedan        fwd          front       99.8  ...         109   \n",
            "4        sedan        4wd          front       99.4  ...         136   \n",
            "\n",
            "   fuelsystem  boreratio  stroke compressionratio horsepower  peakrpm citympg  \\\n",
            "0        mpfi       3.47    2.68              9.0        111     5000      21   \n",
            "1        mpfi       3.47    2.68              9.0        111     5000      21   \n",
            "2        mpfi       2.68    3.47              9.0        154     5000      19   \n",
            "3        mpfi       3.19    3.40             10.0        102     5500      24   \n",
            "4        mpfi       3.19    3.40              8.0        115     5500      18   \n",
            "\n",
            "   highwaympg    price  \n",
            "0          27  13495.0  \n",
            "1          27  16500.0  \n",
            "2          26  16500.0  \n",
            "3          30  13950.0  \n",
            "4          22  17450.0  \n",
            "\n",
            "[5 rows x 26 columns]\n"
          ]
        }
      ],
      "source": [
        "import pandas as pd\n",
        "import numpy as np\n",
        "import seaborn as sns\n",
        "from sklearn.model_selection import train_test_split\n",
        "from sklearn.linear_model import LinearRegression\n",
        "from sklearn.metrics import mean_squared_error, r2_score\n",
        "import statsmodels.api as sm\n",
        "\n",
        "\n",
        "np.random.seed(42)\n",
        "\n",
        "# Load the dataset\n",
        "df = pd.read_csv('cars.csv')\n",
        "\n",
        "# Display the first few rows of the dataset\n",
        "print(df.head())\n"
      ]
    },
    {
      "cell_type": "code",
      "source": [
        "print(df.isnull().sum())"
      ],
      "metadata": {
        "colab": {
          "base_uri": "https://localhost:8080/"
        },
        "id": "amAoohU6EQ9y",
        "outputId": "69e4ab62-a65e-4f03-e786-7d54313d5463"
      },
      "execution_count": null,
      "outputs": [
        {
          "output_type": "stream",
          "name": "stdout",
          "text": [
            "car_ID              0\n",
            "symboling           0\n",
            "CarName             0\n",
            "fueltype            0\n",
            "aspiration          0\n",
            "doornumber          0\n",
            "carbody             0\n",
            "drivewheel          0\n",
            "enginelocation      0\n",
            "wheelbase           0\n",
            "carlength           0\n",
            "carwidth            0\n",
            "carheight           0\n",
            "curbweight          0\n",
            "enginetype          0\n",
            "cylindernumber      0\n",
            "enginesize          0\n",
            "fuelsystem          0\n",
            "boreratio           0\n",
            "stroke              0\n",
            "compressionratio    0\n",
            "horsepower          0\n",
            "peakrpm             0\n",
            "citympg             0\n",
            "highwaympg          0\n",
            "price               0\n",
            "dtype: int64\n"
          ]
        }
      ]
    },
    {
      "cell_type": "code",
      "source": [
        "df.info()"
      ],
      "metadata": {
        "colab": {
          "base_uri": "https://localhost:8080/"
        },
        "id": "kfq6fZzGE5z-",
        "outputId": "28088569-eb7b-4632-b127-e67adead57e7"
      },
      "execution_count": null,
      "outputs": [
        {
          "output_type": "stream",
          "name": "stdout",
          "text": [
            "<class 'pandas.core.frame.DataFrame'>\n",
            "RangeIndex: 205 entries, 0 to 204\n",
            "Data columns (total 26 columns):\n",
            " #   Column            Non-Null Count  Dtype  \n",
            "---  ------            --------------  -----  \n",
            " 0   car_ID            205 non-null    int64  \n",
            " 1   symboling         205 non-null    int64  \n",
            " 2   CarName           205 non-null    object \n",
            " 3   fueltype          205 non-null    object \n",
            " 4   aspiration        205 non-null    object \n",
            " 5   doornumber        205 non-null    object \n",
            " 6   carbody           205 non-null    object \n",
            " 7   drivewheel        205 non-null    object \n",
            " 8   enginelocation    205 non-null    object \n",
            " 9   wheelbase         205 non-null    float64\n",
            " 10  carlength         205 non-null    float64\n",
            " 11  carwidth          205 non-null    float64\n",
            " 12  carheight         205 non-null    float64\n",
            " 13  curbweight        205 non-null    int64  \n",
            " 14  enginetype        205 non-null    object \n",
            " 15  cylindernumber    205 non-null    object \n",
            " 16  enginesize        205 non-null    int64  \n",
            " 17  fuelsystem        205 non-null    object \n",
            " 18  boreratio         205 non-null    float64\n",
            " 19  stroke            205 non-null    float64\n",
            " 20  compressionratio  205 non-null    float64\n",
            " 21  horsepower        205 non-null    int64  \n",
            " 22  peakrpm           205 non-null    int64  \n",
            " 23  citympg           205 non-null    int64  \n",
            " 24  highwaympg        205 non-null    int64  \n",
            " 25  price             205 non-null    float64\n",
            "dtypes: float64(8), int64(8), object(10)\n",
            "memory usage: 41.8+ KB\n"
          ]
        }
      ]
    },
    {
      "cell_type": "code",
      "source": [
        "categorical_columns = ['symboling','fueltype', 'aspiration', 'doornumber', 'carbody',\n",
        "                       'drivewheel', 'enginelocation', 'enginetype', 'cylindernumber', 'fuelsystem']\n",
        "\n",
        "# Convert categorical variables to dummy variables\n",
        "df = pd.get_dummies(df, columns=categorical_columns, drop_first=True, dtype=int)"
      ],
      "metadata": {
        "id": "mUmohGXjFX6W"
      },
      "execution_count": null,
      "outputs": []
    },
    {
      "cell_type": "code",
      "source": [
        "print(df.head())"
      ],
      "metadata": {
        "colab": {
          "base_uri": "https://localhost:8080/"
        },
        "id": "-L3mv6ExM91b",
        "outputId": "82a1f2c2-cf8b-4124-d08b-98d012b129d0"
      },
      "execution_count": null,
      "outputs": [
        {
          "output_type": "stream",
          "name": "stdout",
          "text": [
            "   car_ID                   CarName  wheelbase  carlength  carwidth  \\\n",
            "0       1        alfa-romero giulia       88.6      168.8      64.1   \n",
            "1       2       alfa-romero stelvio       88.6      168.8      64.1   \n",
            "2       3  alfa-romero Quadrifoglio       94.5      171.2      65.5   \n",
            "3       4               audi 100 ls       99.8      176.6      66.2   \n",
            "4       5                audi 100ls       99.4      176.6      66.4   \n",
            "\n",
            "   carheight  curbweight  enginesize  boreratio  stroke  ...  \\\n",
            "0       48.8        2548         130       3.47    2.68  ...   \n",
            "1       48.8        2548         130       3.47    2.68  ...   \n",
            "2       52.4        2823         152       2.68    3.47  ...   \n",
            "3       54.3        2337         109       3.19    3.40  ...   \n",
            "4       54.3        2824         136       3.19    3.40  ...   \n",
            "\n",
            "   cylindernumber_three  cylindernumber_twelve  cylindernumber_two  \\\n",
            "0                     0                      0                   0   \n",
            "1                     0                      0                   0   \n",
            "2                     0                      0                   0   \n",
            "3                     0                      0                   0   \n",
            "4                     0                      0                   0   \n",
            "\n",
            "   fuelsystem_2bbl  fuelsystem_4bbl  fuelsystem_idi  fuelsystem_mfi  \\\n",
            "0                0                0               0               0   \n",
            "1                0                0               0               0   \n",
            "2                0                0               0               0   \n",
            "3                0                0               0               0   \n",
            "4                0                0               0               0   \n",
            "\n",
            "   fuelsystem_mpfi  fuelsystem_spdi  fuelsystem_spfi  \n",
            "0                1                0                0  \n",
            "1                1                0                0  \n",
            "2                1                0                0  \n",
            "3                1                0                0  \n",
            "4                1                0                0  \n",
            "\n",
            "[5 rows x 50 columns]\n"
          ]
        }
      ]
    },
    {
      "cell_type": "code",
      "source": [
        "X = df.drop(['car_ID', 'CarName', 'price'], axis=1)\n",
        "y = df['price']"
      ],
      "metadata": {
        "id": "LA79ufMyGz4Q"
      },
      "execution_count": null,
      "outputs": []
    },
    {
      "cell_type": "code",
      "source": [
        "# Add a constant for statsmodels\n",
        "X_const = sm.add_constant(X)\n",
        "\n",
        "# Perform the train-test split\n",
        "X_train, X_test, y_train, y_test = train_test_split(X_const, y, test_size=0.2, random_state=42)\n",
        "\n",
        "\n",
        "\n"
      ],
      "metadata": {
        "id": "UV9Uh-fcORdS"
      },
      "execution_count": null,
      "outputs": []
    },
    {
      "cell_type": "code",
      "source": [
        "model = sm.OLS(y_train, X_train)\n",
        "result = model.fit()\n",
        "\n",
        "# Print the summary of the model\n",
        "print(result.summary())\n",
        "\n"
      ],
      "metadata": {
        "colab": {
          "base_uri": "https://localhost:8080/"
        },
        "id": "aF1o-motYFpY",
        "outputId": "c381979d-9f43-4801-869f-32f6fed49068"
      },
      "execution_count": null,
      "outputs": [
        {
          "output_type": "stream",
          "name": "stdout",
          "text": [
            "                            OLS Regression Results                            \n",
            "==============================================================================\n",
            "Dep. Variable:                  price   R-squared:                       0.953\n",
            "Model:                            OLS   Adj. R-squared:                  0.936\n",
            "Method:                 Least Squares   F-statistic:                     55.11\n",
            "Date:                Wed, 07 Aug 2024   Prob (F-statistic):           3.23e-61\n",
            "Time:                        16:31:15   Log-Likelihood:                -1449.7\n",
            "No. Observations:                 164   AIC:                             2989.\n",
            "Df Residuals:                     119   BIC:                             3129.\n",
            "Df Model:                          44                                         \n",
            "Covariance Type:            nonrobust                                         \n",
            "=========================================================================================\n",
            "                            coef    std err          t      P>|t|      [0.025      0.975]\n",
            "-----------------------------------------------------------------------------------------\n",
            "const                 -2.496e+04   1.05e+04     -2.385      0.019   -4.57e+04   -4235.075\n",
            "wheelbase               195.3471    109.561      1.783      0.077     -21.595     412.289\n",
            "carlength              -120.3624     52.003     -2.315      0.022    -223.334     -17.390\n",
            "carwidth                512.2151    251.997      2.033      0.044      13.236    1011.194\n",
            "carheight               130.5491    128.582      1.015      0.312    -124.055     385.154\n",
            "curbweight                4.5225      1.792      2.524      0.013       0.975       8.070\n",
            "enginesize              105.7465     27.019      3.914      0.000      52.247     159.246\n",
            "boreratio             -1505.5818   1554.865     -0.968      0.335   -4584.371    1573.207\n",
            "stroke                -3592.0956    886.578     -4.052      0.000   -5347.608   -1836.583\n",
            "compressionratio        118.2965    542.446      0.218      0.828    -955.801    1192.394\n",
            "horsepower               15.2743     22.817      0.669      0.505     -29.905      60.454\n",
            "peakrpm                   1.5618      0.658      2.374      0.019       0.259       2.864\n",
            "citympg                -283.5062    150.504     -1.884      0.062    -581.520      14.507\n",
            "highwaympg              213.5175    138.069      1.546      0.125     -59.873     486.908\n",
            "symboling_-1            565.0349   1586.246      0.356      0.722   -2575.890    3705.960\n",
            "symboling_0            2781.0678   1582.123      1.758      0.081    -351.693    5913.829\n",
            "symboling_1            2898.6643   1658.704      1.748      0.083    -385.735    6183.064\n",
            "symboling_2            1686.5588   1679.458      1.004      0.317   -1638.935    5012.052\n",
            "symboling_3            2168.0100   1840.659      1.178      0.241   -1476.678    5812.698\n",
            "fueltype_gas          -1.281e+04   5629.569     -2.275      0.025    -2.4e+04   -1661.676\n",
            "aspiration_turbo       1575.8683    869.519      1.812      0.072    -145.866    3297.603\n",
            "doornumber_two         -334.8698    637.278     -0.525      0.600   -1596.744     927.004\n",
            "carbody_hardtop       -4111.8713   1465.600     -2.806      0.006   -7013.905   -1209.837\n",
            "carbody_hatchback     -2629.7622   1174.682     -2.239      0.027   -4955.749    -303.775\n",
            "carbody_sedan         -1824.8397   1291.605     -1.413      0.160   -4382.347     732.668\n",
            "carbody_wagon         -3456.8494   1447.769     -2.388      0.019   -6323.576    -590.123\n",
            "drivewheel_fwd           71.9638   1249.299      0.058      0.954   -2401.772    2545.700\n",
            "drivewheel_rwd         1138.5271   1393.552      0.817      0.416   -1620.844    3897.898\n",
            "enginelocation_rear    1.129e+04   3012.186      3.749      0.000    5327.489    1.73e+04\n",
            "enginetype_dohcv      -9666.8668   4838.235     -1.998      0.048   -1.92e+04     -86.678\n",
            "enginetype_l          -3457.5449   1837.238     -1.882      0.062   -7095.460     180.371\n",
            "enginetype_ohc         2252.6106    957.558      2.352      0.020     356.549    4148.672\n",
            "enginetype_ohcf         688.7999   1783.481      0.386      0.700   -2842.670    4220.270\n",
            "enginetype_ohcv       -4314.4879   1280.022     -3.371      0.001   -6849.060   -1779.916\n",
            "enginetype_rotor      -1033.5675   2186.541     -0.473      0.637   -5363.137    3296.002\n",
            "cylindernumber_five   -8341.8755   2708.697     -3.080      0.003   -1.37e+04   -2978.385\n",
            "cylindernumber_four   -9351.1888   2966.176     -3.153      0.002   -1.52e+04   -3477.864\n",
            "cylindernumber_six    -8870.9582   2277.101     -3.896      0.000   -1.34e+04   -4362.071\n",
            "cylindernumber_three   2.547e-12   7.51e-13      3.390      0.001    1.06e-12    4.03e-12\n",
            "cylindernumber_twelve  -1.39e+04   4687.759     -2.964      0.004   -2.32e+04   -4613.905\n",
            "cylindernumber_two    -1033.5675   2186.541     -0.473      0.637   -5363.137    3296.002\n",
            "fuelsystem_2bbl         226.8617    928.759      0.244      0.807   -1612.174    2065.897\n",
            "fuelsystem_4bbl         248.1842   2689.083      0.092      0.927   -5076.468    5572.837\n",
            "fuelsystem_idi        -1.215e+04   6976.512     -1.742      0.084    -2.6e+04    1662.861\n",
            "fuelsystem_mfi        -1789.5808   2422.379     -0.739      0.462   -6586.133    3006.971\n",
            "fuelsystem_mpfi         756.4960   1003.570      0.754      0.452   -1230.673    2743.665\n",
            "fuelsystem_spdi       -1344.3013   1438.785     -0.934      0.352   -4193.240    1504.637\n",
            "fuelsystem_spfi         128.1760   2351.277      0.055      0.957   -4527.587    4783.939\n",
            "==============================================================================\n",
            "Omnibus:                        1.525   Durbin-Watson:                   1.854\n",
            "Prob(Omnibus):                  0.466   Jarque-Bera (JB):                1.164\n",
            "Skew:                          -0.058   Prob(JB):                        0.559\n",
            "Kurtosis:                       3.396   Cond. No.                     1.00e+16\n",
            "==============================================================================\n",
            "\n",
            "Notes:\n",
            "[1] Standard Errors assume that the covariance matrix of the errors is correctly specified.\n",
            "[2] The smallest eigenvalue is 5.42e-23. This might indicate that there are\n",
            "strong multicollinearity problems or that the design matrix is singular.\n"
          ]
        }
      ]
    },
    {
      "cell_type": "code",
      "source": [
        "# Make predictions\n",
        "y_pred = result.predict(X_test)\n",
        "\n",
        "# Calculate performance metrics\n",
        "mse = mean_squared_error(y_test, y_pred)\n",
        "r2 = r2_score(y_test, y_pred)\n",
        "intercept = result.params[0]\n",
        "\n",
        "print(f\"Intercept: {intercept}\")\n",
        "print(f\"Mean Squared Error: {mse}\")\n",
        "print(f\"R^2 Score: {r2}\")\n",
        "print(f\"Predictions on test set: {y_pred.values[:5]}\")\n",
        "print(f\"Actual values on test set: {y_test.values[:5]}\")"
      ],
      "metadata": {
        "colab": {
          "base_uri": "https://localhost:8080/"
        },
        "id": "ZBp97klDfUze",
        "outputId": "04204ed7-6679-4b8a-be03-92069c9ccf4d"
      },
      "execution_count": null,
      "outputs": [
        {
          "output_type": "stream",
          "name": "stdout",
          "text": [
            "Intercept: -24960.11565478317\n",
            "Mean Squared Error: 9589266.309257166\n",
            "R^2 Score: 0.878530809522927\n",
            "Predictions on test set: [28875.09334703 20604.38940655 10877.38841499 12914.01935502\n",
            " 26967.15829428]\n",
            "Actual values on test set: [30760.    17859.167  9549.    11850.    28248.   ]\n"
          ]
        },
        {
          "output_type": "stream",
          "name": "stderr",
          "text": [
            "<ipython-input-144-4b8efcdee72a>:7: FutureWarning: Series.__getitem__ treating keys as positions is deprecated. In a future version, integer keys will always be treated as labels (consistent with DataFrame behavior). To access a value by position, use `ser.iloc[pos]`\n",
            "  intercept = result.params[0]\n"
          ]
        }
      ]
    },
    {
      "cell_type": "markdown",
      "source": [
        "The R squared value is giving 0.87, which is not bad; still we try other different methods to validate acccuracy on the test dataset."
      ],
      "metadata": {
        "id": "y7FTKkHwcEXj"
      }
    },
    {
      "cell_type": "code",
      "source": [
        "from sklearn.linear_model import Lasso\n",
        "from sklearn.tree import DecisionTreeRegressor\n",
        "from sklearn.ensemble import RandomForestRegressor"
      ],
      "metadata": {
        "id": "COl0ZXbiiwam"
      },
      "execution_count": null,
      "outputs": []
    },
    {
      "cell_type": "code",
      "source": [
        "# Define models and hyperparameters for grid search\n",
        "models = {\n",
        "    'Lasso': {\n",
        "        'model': Lasso(),\n",
        "        'params': {\n",
        "            'alpha': [0.1, 0.5, 1.0, 5.0, 10.0]\n",
        "        }\n",
        "    },\n",
        "    'Decision Tree': {\n",
        "        'model': DecisionTreeRegressor(),\n",
        "        'params': {\n",
        "            'max_depth': [3, 5, 7, 10],\n",
        "            'min_samples_split': [2, 5, 10]\n",
        "        }\n",
        "    },\n",
        "    'Random Forest': {\n",
        "        'model': RandomForestRegressor(),\n",
        "        'params': {\n",
        "            'n_estimators': [50, 100, 200],\n",
        "            'max_depth': [3, 5, 7, 10],\n",
        "            'min_samples_split': [2, 5, 10]\n",
        "        }\n",
        "    }\n",
        "}\n",
        "\n"
      ],
      "metadata": {
        "id": "AialKA7MixpK"
      },
      "execution_count": null,
      "outputs": []
    },
    {
      "cell_type": "code",
      "source": [
        "# Initialize the grid search\n",
        "results = {}\n",
        "for model_name, config in models.items():\n",
        "    grid_search = GridSearchCV(estimator=config['model'], param_grid=config['params'], cv=5, scoring='neg_mean_squared_error', n_jobs=-1)\n",
        "    grid_search.fit(X_train, y_train)\n",
        "    best_params = grid_search.best_params_\n",
        "    best_score = -grid_search.best_score_\n",
        "    results[model_name] = {\n",
        "        'best_params': best_params,\n",
        "        'best_score': best_score\n",
        "    }\n",
        "\n",
        "    # Evaluate on test set\n",
        "    best_model = grid_search.best_estimator_\n",
        "    y_pred = best_model.predict(X_test)\n",
        "    mse = mean_squared_error(y_test, y_pred)\n",
        "    r2 = r2_score(y_test, y_pred)\n",
        "    results[model_name].update({\n",
        "        'test_mse': mse,\n",
        "        'test_r2': r2\n",
        "    })\n"
      ],
      "metadata": {
        "id": "cdh9z4cejd7h"
      },
      "execution_count": null,
      "outputs": []
    },
    {
      "cell_type": "code",
      "source": [
        "\n",
        "# Print the results\n",
        "for model_name, metrics in results.items():\n",
        "    print(f\"Model: {model_name}\")\n",
        "    print(f\"Best Parameters: {metrics['best_params']}\")\n",
        "    print(f\"Best Cross-Validation Score (MSE): {metrics['best_score']}\")\n",
        "    print(f\"Test Mean Squared Error: {metrics['test_mse']}\")\n",
        "    print(f\"Test R^2 Score: {metrics['test_r2']}\\n\")"
      ],
      "metadata": {
        "colab": {
          "base_uri": "https://localhost:8080/"
        },
        "id": "4sSWUEA-jhAe",
        "outputId": "8bba9655-fbbd-4872-8480-9e937b58fac7"
      },
      "execution_count": null,
      "outputs": [
        {
          "output_type": "stream",
          "name": "stdout",
          "text": [
            "Model: Lasso\n",
            "Best Parameters: {'alpha': 10.0}\n",
            "Best Cross-Validation Score (MSE): 8744520.146734526\n",
            "Test Mean Squared Error: 11326711.63796353\n",
            "Test R^2 Score: 0.8565222354808861\n",
            "\n",
            "Model: Decision Tree\n",
            "Best Parameters: {'max_depth': 5, 'min_samples_split': 10}\n",
            "Best Cross-Validation Score (MSE): 9479307.597065864\n",
            "Test Mean Squared Error: 9596251.322454114\n",
            "Test R^2 Score: 0.8784423289373283\n",
            "\n",
            "Model: Random Forest\n",
            "Best Parameters: {'max_depth': 7, 'min_samples_split': 2, 'n_estimators': 50}\n",
            "Best Cross-Validation Score (MSE): 5884592.267845519\n",
            "Test Mean Squared Error: 3438048.2499086596\n",
            "Test R^2 Score: 0.9564495421996604\n",
            "\n"
          ]
        }
      ]
    },
    {
      "cell_type": "markdown",
      "source": [
        "We xcan see Random forest is giving best prediction with R squared value."
      ],
      "metadata": {
        "id": "mL6-Gaaifqqb"
      }
    },
    {
      "cell_type": "code",
      "source": [
        "\n",
        "def fit_model(X_train, y_train):\n",
        "\n",
        "    X_train_const = sm.add_constant(X_train)\n",
        "    model = sm.OLS(y_train, X_train_const).fit()\n",
        "    return model\n"
      ],
      "metadata": {
        "id": "GeiZmcROj0vA"
      },
      "execution_count": null,
      "outputs": []
    },
    {
      "cell_type": "code",
      "source": [
        "\n",
        "def calculate_adjusted_r2(X_train, y_train, X_test, y_test):\n",
        "\n",
        "    model = fit_model(X_train, y_train)\n",
        "    y_pred = model.predict(sm.add_constant(X_test))\n",
        "    r2 = r2_score(y_test, y_pred)\n",
        "    n = len(y_train)\n",
        "    p = X_train.shape[1]\n",
        "    adj_r2 = 1 - (1 - r2) * (n - 1) / (n - p - 1)\n",
        "    return adj_r2\n",
        "\n"
      ],
      "metadata": {
        "id": "XPb6xS87nfsL"
      },
      "execution_count": null,
      "outputs": []
    },
    {
      "cell_type": "code",
      "source": [
        "\n",
        "# Forward selection\n",
        "def forward_selection(X_train, y_train, X_test, y_test):\n",
        "\n",
        "    features = X_train.columns.tolist()\n",
        "    selected_features = []\n",
        "    best_adj_r2 = -np.inf\n",
        "\n",
        "    while features:\n",
        "        best_feature = None\n",
        "        for feature in features:\n",
        "            current_features = selected_features + [feature]\n",
        "            X_train_subset = X_train[current_features]\n",
        "            X_test_subset = X_test[current_features]\n",
        "            adj_r2 = calculate_adjusted_r2(X_train_subset, y_train, X_test_subset, y_test)\n",
        "\n",
        "            if adj_r2 > best_adj_r2:\n",
        "                best_adj_r2 = adj_r2\n",
        "                best_feature = feature\n",
        "\n",
        "        if best_feature:\n",
        "            selected_features.append(best_feature)\n",
        "            features.remove(best_feature)\n",
        "        else:\n",
        "            break\n",
        "\n",
        "    return selected_features, best_adj_r2\n",
        "\n"
      ],
      "metadata": {
        "id": "8yyIePoCoSmd"
      },
      "execution_count": null,
      "outputs": []
    },
    {
      "cell_type": "code",
      "source": [
        "\n",
        "selected_features, best_adj_r2 = forward_selection(X_train, y_train, X_test, y_test)\n",
        "\n",
        "# Fit the final model with selected features\n",
        "X_train_final = X_train[selected_features]\n",
        "X_test_final = X_test[selected_features]\n",
        "final_model = fit_model(X_train_final, y_train)\n",
        "\n",
        "# Print the results\n",
        "print(\"Selected Features:\")\n",
        "print(selected_features)\n",
        "print(f\"Best Adjusted R^2: {best_adj_r2}\")\n",
        "\n",
        "# Print coefficients\n",
        "coefficients = final_model.params\n",
        "print(\"\\nCoefficients:\")\n",
        "print(coefficients)"
      ],
      "metadata": {
        "colab": {
          "base_uri": "https://localhost:8080/"
        },
        "id": "m2ZuJMkSpHdQ",
        "outputId": "2e162695-b949-4432-b4ff-90b8a5e538db"
      },
      "execution_count": null,
      "outputs": [
        {
          "output_type": "stream",
          "name": "stdout",
          "text": [
            "Selected Features:\n",
            "['enginesize', 'cylindernumber_four', 'enginetype_ohcv', 'drivewheel_fwd', 'stroke', 'enginetype_ohc', 'fuelsystem_4bbl', 'fuelsystem_idi', 'peakrpm', 'enginetype_l']\n",
            "Best Adjusted R^2: 0.9154477818396042\n",
            "\n",
            "Coefficients:\n",
            "const                 -6529.495806\n",
            "enginesize              175.507945\n",
            "cylindernumber_four   -4210.687191\n",
            "enginetype_ohcv       -5411.293004\n",
            "drivewheel_fwd        -1485.024724\n",
            "stroke                -4903.810800\n",
            "enginetype_ohc         2659.969841\n",
            "fuelsystem_4bbl        4704.513010\n",
            "fuelsystem_idi         3694.181528\n",
            "peakrpm                   3.041055\n",
            "enginetype_l           2012.774325\n",
            "dtype: float64\n"
          ]
        }
      ]
    },
    {
      "cell_type": "code",
      "source": [
        "results_df = pd.DataFrame({\n",
        "    'Actual Values': y_test.values,\n",
        "    'Predicted Values': y_pred,\n",
        "    **X_test_final\n",
        "})\n",
        "print(\"\\nResults:\")\n",
        "print(results_df.head())"
      ],
      "metadata": {
        "colab": {
          "base_uri": "https://localhost:8080/"
        },
        "id": "oPvy7IQKq10L",
        "outputId": "2a7176ef-3042-47ca-ae0f-fda2f12f5872"
      },
      "execution_count": null,
      "outputs": [
        {
          "output_type": "stream",
          "name": "stdout",
          "text": [
            "\n",
            "Results:\n",
            "     Actual Values  Predicted Values  enginesize  cylindernumber_four  \\\n",
            "15       30760.000      35609.220000         209                    0   \n",
            "9        17859.167      18104.479600         131                    0   \n",
            "100       9549.000       9196.905521         120                    1   \n",
            "132      11850.000      13521.661092         121                    1   \n",
            "68       28248.000      26509.196561         183                    0   \n",
            "\n",
            "     enginetype_ohcv  drivewheel_fwd  stroke  enginetype_ohc  fuelsystem_4bbl  \\\n",
            "15                 0               0    3.39               1                0   \n",
            "9                  0               0    3.40               1                0   \n",
            "100                0               1    3.47               1                0   \n",
            "132                0               1    3.07               1                0   \n",
            "68                 0               0    3.64               1                0   \n",
            "\n",
            "     fuelsystem_idi  peakrpm  enginetype_l  \n",
            "15                0     5400             0  \n",
            "9                 0     5500             0  \n",
            "100               0     5200             0  \n",
            "132               0     5250             0  \n",
            "68                1     4350             0  \n"
          ]
        }
      ]
    },
    {
      "cell_type": "markdown",
      "source": [
        "Here we have done forward selection, which is giving high R squared value. Also we have printed the predicted values and the R squared value.\n",
        "\n",
        "\n"
      ],
      "metadata": {
        "id": "FFyUKWktgKju"
      }
    }
  ]
}